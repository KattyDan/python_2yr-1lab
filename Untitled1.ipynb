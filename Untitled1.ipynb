{
  "nbformat": 4,
  "nbformat_minor": 0,
  "metadata": {
    "colab": {
      "provenance": [],
      "authorship_tag": "ABX9TyMRuUBrodRf0b0w9ezWuRLG",
      "include_colab_link": true
    },
    "kernelspec": {
      "name": "python3",
      "display_name": "Python 3"
    },
    "language_info": {
      "name": "python"
    }
  },
  "cells": [
    {
      "cell_type": "markdown",
      "metadata": {
        "id": "view-in-github",
        "colab_type": "text"
      },
      "source": [
        "<a href=\"https://colab.research.google.com/github/KattyDan/python_2yr-1lab/blob/main/Untitled1.ipynb\" target=\"_parent\"><img src=\"https://colab.research.google.com/assets/colab-badge.svg\" alt=\"Open In Colab\"/></a>"
      ]
    },
    {
      "cell_type": "code",
      "execution_count": 2,
      "metadata": {
        "colab": {
          "base_uri": "https://localhost:8080/",
          "height": 672
        },
        "id": "PB2yMzxK8HA5",
        "outputId": "ec3c2e9b-3ad7-4695-9a5c-08afc8a4dee2"
      },
      "outputs": [
        {
          "output_type": "stream",
          "name": "stdout",
          "text": [
            "Исходные данные:\n",
            "      Товар   Цена  Количество\n",
            "0  Клубника    NaN         200\n",
            "1    Малина  350.0          70\n",
            "2     Манго  100.0         400\n",
            "\n",
            "Выручка по товарам:\n",
            "Товар\n",
            "Клубника    45000.0\n",
            "Малина      24500.0\n",
            "Манго       40000.0\n",
            "Name: Общая_стоимость, dtype: float64\n"
          ]
        },
        {
          "output_type": "stream",
          "name": "stderr",
          "text": [
            "/tmp/ipython-input-3092942308.py:17: FutureWarning: A value is trying to be set on a copy of a DataFrame or Series through chained assignment using an inplace method.\n",
            "The behavior will change in pandas 3.0. This inplace method will never work because the intermediate object on which we are setting values always behaves as a copy.\n",
            "\n",
            "For example, when doing 'df[col].method(value, inplace=True)', try using 'df.method({col: value}, inplace=True)' or df[col] = df[col].method(value) instead, to perform the operation inplace on the original object.\n",
            "\n",
            "\n",
            "  df['Цена'].fillna(median_price, inplace=True)\n"
          ]
        },
        {
          "output_type": "display_data",
          "data": {
            "text/plain": [
              "<Figure size 700x300 with 1 Axes>"
            ],
            "image/png": "[encoded data removed]"
          },
          "metadata": {}
        }
      ],
      "source": [
        "import pandas as pd\n",
        "import matplotlib.pyplot as plt\n",
        "\n",
        "# Создание DataFrame с тестовыми данными\n",
        "data = {\n",
        "    'Товар': ['Клубника', 'Малина', 'Манго'],\n",
        "    'Цена': [None, 350, 100],\n",
        "    'Количество': [200, 70, 400]\n",
        "}\n",
        "\n",
        "df = pd.DataFrame(data)\n",
        "print(\"Исходные данные:\")\n",
        "print(df)\n",
        "\n",
        "# Заполнение пропусков медиан.зн\n",
        "median_price = df['Цена'].median()\n",
        "df['Цена'].fillna(median_price, inplace=True)\n",
        "\n",
        "# Удаление выбросов\n",
        "df = df[(df['Количество'] >= 1) & (df['Количество'] <= 1000)]\n",
        "\n",
        "# Новый столбец\n",
        "df['Общая_стоимость'] = df['Цена'] * df['Количество']\n",
        "\n",
        "# Группировка\n",
        "revenue_by_product = df.groupby('Товар')['Общая_стоимость'].sum()\n",
        "\n",
        "print(\"\\nВыручка по товарам:\")\n",
        "print(revenue_by_product)\n",
        "\n",
        "# График\n",
        "plt.figure(figsize=(7, 3))\n",
        "revenue_by_product.plot(kind='bar', color=['red', 'blue', 'orange', 'yellow'])\n",
        "plt.title('Выручка по товарам')\n",
        "plt.xlabel('Товар')\n",
        "plt.ylabel('Выручка (руб)')\n",
        "plt.tight_layout()\n",
        "plt.show()"
      ]
    },
    {
      "cell_type": "code",
      "source": [
        "import numpy as np\n",
        "from numpy.linalg import det, inv, solve\n",
        "\n",
        "A = np.random.randint(1, 10, size=(7, 7))\n",
        "B = np.random.randint(1, 10, size=(7, 7))\n",
        "\n",
        "print(\"Матрица A:\\n\", A)\n",
        "print(\"Матрица B:\\n\", B)\n",
        "\n",
        "# Поэлементное\n",
        "elementwise_product = A * B\n",
        "# print(\"Поэлементное произведение:\\n\", elementnoe_proizvedenie)\n",
        "\n",
        "# Матричное\n",
        "matrix_proizvedenie = np.dot(A, B)\n",
        "print(\"Матричное произведение:\\n\", matrix_proizvedenie)\n",
        "\n",
        "# Определитель матрицы A\n",
        "det_A = det(A)\n",
        "print(\"Определитель матрицы A:\", round(det_A, 7))\n",
        "\n",
        "# Транспонированние матрицы B\n",
        "B_transposed = B.T\n",
        "print(\"Транспонированная B:\\n\", B_transposed)\n",
        "\n",
        "# Обратная матрица для A\n",
        "try:\n",
        "    obrat_A = inv(A)\n",
        "    print(\"Обратная матрица A:\\n\", np.round(obrat_A, 7))\n",
        "except np.linalg.LinAlgError:\n",
        "    print(\"Матрица A вырожденная\")\n",
        "\n",
        "# Решение системы уравнений A*x = C\n",
        "#C = A.sum(axis=1)  # Вектор сумм строк матрицы A\n",
        "# x = solve(A, C)\n",
        "#print(C)\n",
        "#print(\"Решение сиситемы A*x=C:\\n\", x)\n",
        "\n",
        "C = A.sum(axis=1).reshape(-1, 1)  # Преобразование в век.столб\n",
        "print(\"Вектор C (суммы строк матрицы A):\\n\", C)\n",
        "\n",
        "try:\n",
        "    x = solve(A, C)\n",
        "    print(\"Решение системы A*x=C:\\n\", np.round(x, 5))\n",
        "except np.linalg.LinAlgError:\n",
        "    print(\"Матрица A вырождена, система не имеет единственного решения\")"
      ],
      "metadata": {
        "colab": {
          "base_uri": "https://localhost:8080/"
        },
        "id": "5904iUWo8blT",
        "outputId": "402c64f8-31a4-4f46-b957-5a2d61c46b02"
      },
      "execution_count": 4,
      "outputs": [
        {
          "output_type": "stream",
          "name": "stdout",
          "text": [
            "Матрица A:\n",
            " [[1 3 1 8 4 8 5]\n",
            " [6 8 3 9 6 8 6]\n",
            " [3 7 9 2 4 8 5]\n",
            " [2 6 2 8 3 6 7]\n",
            " [3 2 2 2 9 9 7]\n",
            " [4 5 8 5 8 5 2]\n",
            " [6 9 3 8 9 5 2]]\n",
            "Матрица B:\n",
            " [[2 5 5 3 2 4 4]\n",
            " [6 1 8 9 7 2 2]\n",
            " [8 8 6 3 4 2 8]\n",
            " [6 6 2 3 1 1 3]\n",
            " [7 6 2 6 5 5 4]\n",
            " [5 2 8 7 4 6 4]\n",
            " [7 8 8 9 8 7 6]]\n",
            "Матричное произведение:\n",
            " [[179 144 163 182 127 123 120]\n",
            " [262 216 254 272 199 175 183]\n",
            " [235 186 241 230 185 149 182]\n",
            " [204 166 196 213 157 132 138]\n",
            " [203 173 193 219 167 170 152]\n",
            " [227 193 190 197 156 131 169]\n",
            " [240 191 210 239 176 145 158]]\n",
            "Определитель матрицы A: 231056.0\n",
            "Транспонированная B:\n",
            " [[2 6 8 6 7 5 7]\n",
            " [5 1 8 6 6 2 8]\n",
            " [5 8 6 2 2 8 8]\n",
            " [3 9 3 3 6 7 9]\n",
            " [2 7 4 1 5 4 8]\n",
            " [4 2 2 1 5 6 7]\n",
            " [4 2 8 3 4 4 6]]\n",
            "Обратная матрица A:\n",
            " [[-0.1430995  0.4447234 -0.087745  -0.1822069  0.0024842  0.0684336\n",
            "  -0.1964632]\n",
            " [-0.0134686 -0.189149   0.1366422  0.0836853 -0.0226612 -0.1817395\n",
            "   0.2276678]\n",
            " [-0.0289454  0.0157364  0.0079894  0.0301053 -0.0425957  0.1576241\n",
            "  -0.1087269]\n",
            " [ 0.0713939  0.0431237 -0.0941676  0.0351949 -0.0710737  0.111817\n",
            "  -0.0586784]\n",
            " [-0.0188353 -0.1835399 -0.0486289  0.0746139  0.0859186  0.0427602\n",
            "   0.1146562]\n",
            " [ 0.2102001  0.0528876  0.1203604 -0.2398553 -0.0116941 -0.1270168\n",
            "   0.0223755]\n",
            " [-0.1929922  0.0146112 -0.0690395  0.2479745  0.0853127  0.0539436\n",
            "  -0.109203 ]]\n",
            "Вектор C (суммы строк матрицы A):\n",
            " [[30]\n",
            " [46]\n",
            " [38]\n",
            " [34]\n",
            " [34]\n",
            " [37]\n",
            " [42]]\n",
            "Решение системы A*x=C:\n",
            " [[1.]\n",
            " [1.]\n",
            " [1.]\n",
            " [1.]\n",
            " [1.]\n",
            " [1.]\n",
            " [1.]]\n"
          ]
        }
      ]
    },
    {
      "cell_type": "code",
      "source": [
        "import math\n",
        "\n",
        "def safe_apply(func, data):\n",
        "    results = []\n",
        "    errors = []\n",
        "\n",
        "    for item in data:\n",
        "        try:\n",
        "            # Применение функ\n",
        "            result = func(item)\n",
        "            results.append(result)\n",
        "        except Exception as e:\n",
        "            errors.append((item, type(e).__name__))\n",
        "    return results, errors\n",
        "\n",
        "# Демонстрация\n",
        "data = ['4', '16', 'text', '-25', '9.0']\n",
        "sqrt_func = lambda x: math.sqrt(float(x))\n",
        "\n",
        "results, errors = safe_apply(sqrt_func, data)\n",
        "\n",
        "print(\"Успешные результаты:\", results)\n",
        "print(\"Ошибки:\", errors)"
      ],
      "metadata": {
        "colab": {
          "base_uri": "https://localhost:8080/"
        },
        "id": "b3ySUIB58mN7",
        "outputId": "80598c8e-fe14-44d6-9295-dec385d3b491"
      },
      "execution_count": 6,
      "outputs": [
        {
          "output_type": "stream",
          "name": "stdout",
          "text": [
            "Успешные результаты: [2.0, 4.0, 3.0]\n",
            "Ошибки: [('text', 'ValueError'), ('-25', 'ValueError')]\n"
          ]
        }
      ]
    }
  ]
}